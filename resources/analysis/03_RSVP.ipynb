{
 "cells": [
  {
   "cell_type": "code",
   "execution_count": 68,
   "metadata": {
    "collapsed": false
   },
   "outputs": [
    {
     "data": {
      "application/javascript": [
       "IPython.notebook.set_autosave_interval(0)"
      ]
     },
     "metadata": {},
     "output_type": "display_data"
    },
    {
     "name": "stdout",
     "output_type": "stream",
     "text": [
      "Autosave disabled\n"
     ]
    }
   ],
   "source": [
    "%autosave 0\n",
    "import pandas as pd\n",
    "import numpy as np\n",
    "import sklearn.preprocessing\n",
    "import seaborn as sns\n",
    "import matplotlib.pyplot as plt\n",
    "from scipy.stats import norm\n",
    "from math import exp\n",
    "from sklearn.metrics import precision_score, recall_score\n",
    "%matplotlib inline\n",
    "sns.set(style=\"white\", palette=\"muted\", color_codes=True)\n",
    "pd.set_option(\"display.max_rows\", 100)"
   ]
  },
  {
   "cell_type": "markdown",
   "metadata": {},
   "source": [
    "# Load data"
   ]
  },
  {
   "cell_type": "code",
   "execution_count": 13,
   "metadata": {
    "collapsed": false
   },
   "outputs": [
    {
     "data": {
      "text/html": [
       "<div>\n",
       "<table border=\"1\" class=\"dataframe\">\n",
       "  <thead>\n",
       "    <tr style=\"text-align: right;\">\n",
       "      <th></th>\n",
       "      <th>timestamp</th>\n",
       "      <th>uuid</th>\n",
       "      <th>task</th>\n",
       "      <th>source</th>\n",
       "      <th>timedelta</th>\n",
       "      <th>id</th>\n",
       "      <th>label</th>\n",
       "    </tr>\n",
       "  </thead>\n",
       "  <tbody>\n",
       "    <tr>\n",
       "      <th>0</th>\n",
       "      <td>2017-05-02 20:51:15.593</td>\n",
       "      <td>5fb56330-3c5f-4243-924c-e5457789918b</td>\n",
       "      <td>easy</td>\n",
       "      <td>image</td>\n",
       "      <td>0.000</td>\n",
       "      <td>379</td>\n",
       "      <td>0</td>\n",
       "    </tr>\n",
       "    <tr>\n",
       "      <th>1</th>\n",
       "      <td>2017-05-02 20:51:15.695</td>\n",
       "      <td>5fb56330-3c5f-4243-924c-e5457789918b</td>\n",
       "      <td>easy</td>\n",
       "      <td>image</td>\n",
       "      <td>0.102</td>\n",
       "      <td>8</td>\n",
       "      <td>1</td>\n",
       "    </tr>\n",
       "  </tbody>\n",
       "</table>\n",
       "</div>"
      ],
      "text/plain": [
       "                 timestamp                                  uuid  task source  \\\n",
       "0  2017-05-02 20:51:15.593  5fb56330-3c5f-4243-924c-e5457789918b  easy  image   \n",
       "1  2017-05-02 20:51:15.695  5fb56330-3c5f-4243-924c-e5457789918b  easy  image   \n",
       "\n",
       "   timedelta   id  label  \n",
       "0      0.000  379      0  \n",
       "1      0.102    8      1  "
      ]
     },
     "execution_count": 13,
     "metadata": {},
     "output_type": "execute_result"
    }
   ],
   "source": [
    "images = pd.read_csv(\"06_RSVP_images.csv\", index_col=0)\n",
    "images.head(n=2)"
   ]
  },
  {
   "cell_type": "code",
   "execution_count": 14,
   "metadata": {
    "collapsed": false,
    "scrolled": true
   },
   "outputs": [
    {
     "data": {
      "text/html": [
       "<div>\n",
       "<table border=\"1\" class=\"dataframe\">\n",
       "  <thead>\n",
       "    <tr style=\"text-align: right;\">\n",
       "      <th></th>\n",
       "      <th>timestamp</th>\n",
       "      <th>uuid</th>\n",
       "      <th>task</th>\n",
       "      <th>source</th>\n",
       "      <th>timedelta</th>\n",
       "    </tr>\n",
       "  </thead>\n",
       "  <tbody>\n",
       "    <tr>\n",
       "      <th>0</th>\n",
       "      <td>2017-05-02 20:51:16.026</td>\n",
       "      <td>5fb56330-3c5f-4243-924c-e5457789918b</td>\n",
       "      <td>easy</td>\n",
       "      <td>key</td>\n",
       "      <td>0.433</td>\n",
       "    </tr>\n",
       "    <tr>\n",
       "      <th>1</th>\n",
       "      <td>2017-05-02 20:51:18.506</td>\n",
       "      <td>5fb56330-3c5f-4243-924c-e5457789918b</td>\n",
       "      <td>easy</td>\n",
       "      <td>key</td>\n",
       "      <td>2.913</td>\n",
       "    </tr>\n",
       "  </tbody>\n",
       "</table>\n",
       "</div>"
      ],
      "text/plain": [
       "                 timestamp                                  uuid  task source  \\\n",
       "0  2017-05-02 20:51:16.026  5fb56330-3c5f-4243-924c-e5457789918b  easy    key   \n",
       "1  2017-05-02 20:51:18.506  5fb56330-3c5f-4243-924c-e5457789918b  easy    key   \n",
       "\n",
       "   timedelta  \n",
       "0      0.433  \n",
       "1      2.913  "
      ]
     },
     "execution_count": 14,
     "metadata": {},
     "output_type": "execute_result"
    }
   ],
   "source": [
    "keys = pd.read_csv(\"06_RSVP_keys.csv\", index_col=0)\n",
    "keys.head(n=2)"
   ]
  },
  {
   "cell_type": "code",
   "execution_count": 42,
   "metadata": {
    "collapsed": true
   },
   "outputs": [],
   "source": [
    "# global algorithm parameters\n",
    "p_Ck = len(keys) / len(images)\n",
    "p_Ii = 36.0/240\n",
    "mu = 0.378\n",
    "sigma = 0.092"
   ]
  },
  {
   "cell_type": "markdown",
   "metadata": {},
   "source": [
    "# Develop algorithm"
   ]
  },
  {
   "cell_type": "code",
   "execution_count": 46,
   "metadata": {
    "collapsed": true
   },
   "outputs": [],
   "source": [
    "def calc_individual_proba_contribution(C_w, timedelta):\n",
    "    p_Cw = len(C_w) * p_Ck # multiples and divides...\n",
    "    \n",
    "    prod = 0.0\n",
    "    for c in C_w:\n",
    "        d = float(c-timedelta)\n",
    "        if d > 0:\n",
    "            prod += norm.logpdf(c-timedelta, loc=mu, scale=sigma)\n",
    "\n",
    "    p_Cw_Ii = exp(prod)\n",
    "    \n",
    "    p_Ii_Cw = p_Ii * p_Cw_Ii # / p_Cw\n",
    "    \n",
    "    p_Ii_w = p_Ii_Cw # * p_Cw\n",
    "    \n",
    "    return p_Ii_w"
   ]
  },
  {
   "cell_type": "code",
   "execution_count": 53,
   "metadata": {
    "collapsed": false
   },
   "outputs": [],
   "source": [
    "def assign_probabilities(images, keys, task, label):\n",
    "    # get list of positive image ids\n",
    "    image_ids = images.ix[(images[\"task\"] == task) & (images[\"label\"] == label),\"id\"].unique()\n",
    "    image_ids.sort()\n",
    "    \n",
    "    result = pd.DataFrame()\n",
    "    result[\"id\"] = image_ids\n",
    "    result[\"label\"] = label\n",
    "    result[\"task\"] = task\n",
    "    result[\"nworkers\"] = np.nan\n",
    "    result[\"proba\"] = np.nan\n",
    "\n",
    "    for image_id in image_ids:\n",
    "        # find at most n=5 workers that saw this id.\n",
    "        # note: we have 9 workers at most anyway.\n",
    "        n=5\n",
    "        user_ids = images.ix[(images[\"task\"] == task) \n",
    "                             & (images[\"id\"] == image_id)\n",
    "                             & (images[\"label\"] == label), \"uuid\"].unique()\n",
    "        user_ids = user_ids[:n]\n",
    "        result.ix[result[\"id\"] == image_id, \"nworkers\"] = len(user_ids)\n",
    "\n",
    "        p_Ii_C = 0.0 \n",
    "        for user_id in user_ids: \n",
    "            C_w = keys.ix[(keys[\"task\"] == task) \n",
    "                          & (keys[\"uuid\"] == user_id), \"timedelta\"]\n",
    "            timedelta = images.ix[(images[\"id\"] == image_id)\n",
    "                                 & (images[\"uuid\"] == user_id)\n",
    "                                 & (images[\"task\"] == task)\n",
    "                                 & (images[\"label\"] == label), \"timedelta\"]\n",
    "            p_Iiw = calc_individual_proba_contribution(C_w, timedelta)\n",
    "            p_Ii_C += p_Iiw\n",
    "\n",
    "        result.ix[result[\"id\"] == image_id, \"proba\"] = p_Ii_C\n",
    "        \n",
    "    return result"
   ]
  },
  {
   "cell_type": "code",
   "execution_count": 77,
   "metadata": {
    "collapsed": true
   },
   "outputs": [],
   "source": [
    "def make_predictions(result, threshold):\n",
    "    result = result.copy()\n",
    "    result[\"prediction\"] = np.nan\n",
    "    mask = result[\"proba\"] >= threshold\n",
    "    result.ix[mask, \"prediction\"] = 1\n",
    "    result.ix[~mask, \"prediction\"] = 0\n",
    "\n",
    "    return result"
   ]
  },
  {
   "cell_type": "code",
   "execution_count": 79,
   "metadata": {
    "collapsed": true
   },
   "outputs": [],
   "source": [
    "def compute_precision_recall(result, threshold=0.5):\n",
    "    result = make_predictions(result, threshold)\n",
    "    y_true = result[\"label\"]\n",
    "    y_pred = result[\"prediction\"]\n",
    "    precision = precision_score(y_true, y_pred)\n",
    "    recall = recall_score(y_true, y_pred)\n",
    "    return precision, recall"
   ]
  },
  {
   "cell_type": "code",
   "execution_count": 70,
   "metadata": {
    "collapsed": true
   },
   "outputs": [],
   "source": [
    "def assign_probabilities_both(images, keys, task):\n",
    "    result_1 = assign_probabilities(images, keys, task, 1)\n",
    "    result_0 = assign_probabilities(images, keys, task, 0)\n",
    "    return pd.concat([result_1, result_0], axis=0).reset_index(drop=True)"
   ]
  },
  {
   "cell_type": "markdown",
   "metadata": {},
   "source": [
    "# Compute results"
   ]
  },
  {
   "cell_type": "code",
   "execution_count": 87,
   "metadata": {
    "collapsed": true
   },
   "outputs": [],
   "source": [
    "all_results = pd.DataFrame()\n",
    "all_results[\"task\"] = [\"easy\", \"medium\", \"hard\", \"all_concepts\"]\n",
    "all_results[\"precision\"] = np.nan\n",
    "all_results[\"recall\"] = np.nan"
   ]
  },
  {
   "cell_type": "code",
   "execution_count": 83,
   "metadata": {
    "collapsed": true
   },
   "outputs": [],
   "source": [
    "results = {}\n",
    "results[\"easy\"] = assign_probabilities_both(images, keys, \"easy\")\n",
    "results[\"medium\"] = assign_probabilities_both(images, keys, \"medium\")\n",
    "results[\"hard\"] = assign_probabilities_both(images, keys, \"hard\")"
   ]
  },
  {
   "cell_type": "code",
   "execution_count": 84,
   "metadata": {
    "collapsed": true
   },
   "outputs": [],
   "source": [
    "results[\"all_concepts\"] = pd.concat([results[\"easy\"], results[\"medium\"], results[\"hard\"]], axis=0)"
   ]
  },
  {
   "cell_type": "code",
   "execution_count": 116,
   "metadata": {
    "collapsed": false
   },
   "outputs": [],
   "source": [
    "threshold = 0.53\n",
    "for task in [\"easy\", \"medium\", \"hard\", \"all_concepts\"]:\n",
    "    precision, recall = compute_precision_recall(results[task], threshold=threshold)\n",
    "    all_results.ix[all_results[\"task\"] == task, [\"precision\", \"recall\"]] = [precision, recall]"
   ]
  },
  {
   "cell_type": "code",
   "execution_count": 117,
   "metadata": {
    "collapsed": false
   },
   "outputs": [
    {
     "data": {
      "text/html": [
       "<div>\n",
       "<table border=\"1\" class=\"dataframe\">\n",
       "  <thead>\n",
       "    <tr style=\"text-align: right;\">\n",
       "      <th></th>\n",
       "      <th>task</th>\n",
       "      <th>precision</th>\n",
       "      <th>recall</th>\n",
       "    </tr>\n",
       "  </thead>\n",
       "  <tbody>\n",
       "    <tr>\n",
       "      <th>0</th>\n",
       "      <td>easy</td>\n",
       "      <td>0.200000</td>\n",
       "      <td>0.055556</td>\n",
       "    </tr>\n",
       "    <tr>\n",
       "      <th>1</th>\n",
       "      <td>medium</td>\n",
       "      <td>0.181818</td>\n",
       "      <td>0.055556</td>\n",
       "    </tr>\n",
       "    <tr>\n",
       "      <th>2</th>\n",
       "      <td>hard</td>\n",
       "      <td>0.125000</td>\n",
       "      <td>0.027778</td>\n",
       "    </tr>\n",
       "    <tr>\n",
       "      <th>3</th>\n",
       "      <td>all_concepts</td>\n",
       "      <td>0.172414</td>\n",
       "      <td>0.046296</td>\n",
       "    </tr>\n",
       "  </tbody>\n",
       "</table>\n",
       "</div>"
      ],
      "text/plain": [
       "           task  precision    recall\n",
       "0          easy   0.200000  0.055556\n",
       "1        medium   0.181818  0.055556\n",
       "2          hard   0.125000  0.027778\n",
       "3  all_concepts   0.172414  0.046296"
      ]
     },
     "execution_count": 117,
     "metadata": {},
     "output_type": "execute_result"
    }
   ],
   "source": [
    "all_results"
   ]
  },
  {
   "cell_type": "code",
   "execution_count": 99,
   "metadata": {
    "collapsed": false
   },
   "outputs": [
    {
     "data": {
      "text/html": [
       "<div>\n",
       "<table border=\"1\" class=\"dataframe\">\n",
       "  <thead>\n",
       "    <tr style=\"text-align: right;\">\n",
       "      <th></th>\n",
       "      <th>task</th>\n",
       "      <th>precision</th>\n",
       "      <th>recall</th>\n",
       "    </tr>\n",
       "  </thead>\n",
       "  <tbody>\n",
       "    <tr>\n",
       "      <th>0</th>\n",
       "      <td>easy</td>\n",
       "      <td>0.181818</td>\n",
       "      <td>0.055556</td>\n",
       "    </tr>\n",
       "    <tr>\n",
       "      <th>1</th>\n",
       "      <td>medium</td>\n",
       "      <td>0.181818</td>\n",
       "      <td>0.055556</td>\n",
       "    </tr>\n",
       "    <tr>\n",
       "      <th>2</th>\n",
       "      <td>hard</td>\n",
       "      <td>0.111111</td>\n",
       "      <td>0.027778</td>\n",
       "    </tr>\n",
       "    <tr>\n",
       "      <th>3</th>\n",
       "      <td>all_concepts</td>\n",
       "      <td>0.161290</td>\n",
       "      <td>0.046296</td>\n",
       "    </tr>\n",
       "  </tbody>\n",
       "</table>\n",
       "</div>"
      ],
      "text/plain": [
       "           task  precision    recall\n",
       "0          easy   0.181818  0.055556\n",
       "1        medium   0.181818  0.055556\n",
       "2          hard   0.111111  0.027778\n",
       "3  all_concepts   0.161290  0.046296"
      ]
     },
     "execution_count": 99,
     "metadata": {},
     "output_type": "execute_result"
    }
   ],
   "source": [
    "all_results"
   ]
  },
  {
   "cell_type": "code",
   "execution_count": null,
   "metadata": {
    "collapsed": true
   },
   "outputs": [],
   "source": []
  }
 ],
 "metadata": {
  "kernelspec": {
   "display_name": "Python 3",
   "language": "python",
   "name": "python3"
  },
  "language_info": {
   "codemirror_mode": {
    "name": "ipython",
    "version": 3
   },
   "file_extension": ".py",
   "mimetype": "text/x-python",
   "name": "python",
   "nbconvert_exporter": "python",
   "pygments_lexer": "ipython3",
   "version": "3.5.2"
  }
 },
 "nbformat": 4,
 "nbformat_minor": 2
}
