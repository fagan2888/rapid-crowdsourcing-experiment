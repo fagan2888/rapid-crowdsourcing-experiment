{
 "cells": [
  {
   "cell_type": "code",
   "execution_count": 28,
   "metadata": {
    "collapsed": false
   },
   "outputs": [
    {
     "data": {
      "application/javascript": [
       "IPython.notebook.set_autosave_interval(0)"
      ]
     },
     "metadata": {},
     "output_type": "display_data"
    },
    {
     "name": "stdout",
     "output_type": "stream",
     "text": [
      "Autosave disabled\n"
     ]
    }
   ],
   "source": [
    "%autosave 0\n",
    "import pandas as pd\n",
    "import numpy as np\n",
    "import sklearn.preprocessing\n",
    "import seaborn as sns\n",
    "import matplotlib.pyplot as plt\n",
    "from sklearn.metrics import precision_score, recall_score\n",
    "from scipy.stats import mode\n",
    "%matplotlib inline\n",
    "sns.set(style=\"white\", palette=\"muted\", color_codes=True)\n",
    "pd.set_option(\"display.max_rows\", 100)"
   ]
  },
  {
   "cell_type": "code",
   "execution_count": 70,
   "metadata": {
    "collapsed": false
   },
   "outputs": [
    {
     "data": {
      "text/html": [
       "<div>\n",
       "<table border=\"1\" class=\"dataframe\">\n",
       "  <thead>\n",
       "    <tr style=\"text-align: right;\">\n",
       "      <th></th>\n",
       "      <th></th>\n",
       "      <th></th>\n",
       "      <th>delay</th>\n",
       "      <th>id</th>\n",
       "      <th>label</th>\n",
       "      <th>prediction</th>\n",
       "    </tr>\n",
       "    <tr>\n",
       "      <th>uuid</th>\n",
       "      <th>task</th>\n",
       "      <th>task_index</th>\n",
       "      <th></th>\n",
       "      <th></th>\n",
       "      <th></th>\n",
       "      <th></th>\n",
       "    </tr>\n",
       "  </thead>\n",
       "  <tbody>\n",
       "    <tr>\n",
       "      <th rowspan=\"2\" valign=\"top\">12b1d3dc-228b-4bf9-b145-639a9c4b6bee</th>\n",
       "      <th rowspan=\"2\" valign=\"top\">easy</th>\n",
       "      <th>0</th>\n",
       "      <td>3.982</td>\n",
       "      <td>574</td>\n",
       "      <td>0</td>\n",
       "      <td>0.0</td>\n",
       "    </tr>\n",
       "    <tr>\n",
       "      <th>1</th>\n",
       "      <td>0.470</td>\n",
       "      <td>159</td>\n",
       "      <td>0</td>\n",
       "      <td>0.0</td>\n",
       "    </tr>\n",
       "  </tbody>\n",
       "</table>\n",
       "</div>"
      ],
      "text/plain": [
       "                                                      delay   id  label  \\\n",
       "uuid                                 task task_index                      \n",
       "12b1d3dc-228b-4bf9-b145-639a9c4b6bee easy 0           3.982  574      0   \n",
       "                                          1           0.470  159      0   \n",
       "\n",
       "                                                      prediction  \n",
       "uuid                                 task task_index              \n",
       "12b1d3dc-228b-4bf9-b145-639a9c4b6bee easy 0                  0.0  \n",
       "                                          1                  0.0  "
      ]
     },
     "execution_count": 70,
     "metadata": {},
     "output_type": "execute_result"
    }
   ],
   "source": [
    "df = pd.read_csv(\"04_grouped_and_tranformed.csv\", index_col=[0,1,2])\n",
    "df.head(n=2)"
   ]
  },
  {
   "cell_type": "code",
   "execution_count": 71,
   "metadata": {
    "collapsed": false
   },
   "outputs": [],
   "source": [
    "df = df.reset_index()"
   ]
  },
  {
   "cell_type": "code",
   "execution_count": 72,
   "metadata": {
    "collapsed": false
   },
   "outputs": [],
   "source": [
    "# drop delays and predictions that are null\n",
    "# TODO figure out why this happened\n",
    "df = df.ix[~df[\"prediction\"].isnull(), :]"
   ]
  },
  {
   "cell_type": "markdown",
   "metadata": {},
   "source": [
    "# Compute timings and metrics for each task"
   ]
  },
  {
   "cell_type": "code",
   "execution_count": 73,
   "metadata": {
    "collapsed": true
   },
   "outputs": [],
   "source": [
    "all_results = pd.DataFrame()\n",
    "all_results[\"task\"] = [\"easy\", \"medium\", \"hard\", \"all_concepts\"]\n",
    "all_results[\"precision\"] = np.nan\n",
    "all_results[\"recall\"] = np.nan\n",
    "all_results[\"time\"] = np.nan"
   ]
  },
  {
   "cell_type": "code",
   "execution_count": 74,
   "metadata": {
    "collapsed": false
   },
   "outputs": [],
   "source": [
    "result = df.ix[df[\"task\"] == \"easy\", :].copy()\n",
    "grouped = result.groupby([\"task\", \"label\", \"id\"])\n",
    "\n",
    "for name, group in grouped:\n",
    "    name_ = name\n",
    "    group_ = group\n",
    "    break"
   ]
  },
  {
   "cell_type": "code",
   "execution_count": 75,
   "metadata": {
    "collapsed": true
   },
   "outputs": [],
   "source": [
    "def f(df, W=3):\n",
    "    predictions = np.random.choice(df[\"prediction\"], size=W)\n",
    "    pred, count = mode(predictions)\n",
    "    return pred[0]"
   ]
  },
  {
   "cell_type": "code",
   "execution_count": 78,
   "metadata": {
    "collapsed": false
   },
   "outputs": [],
   "source": [
    "np.random.seed(6813)\n",
    "for task in [\"easy\", \"medium\", \"hard\", \"all_concepts\"]:\n",
    "    if task != \"all_concepts\":\n",
    "        result = df.ix[df[\"task\"] == task, :].copy()\n",
    "    else:\n",
    "        result = df.copy()\n",
    "        \n",
    "    time = result[\"delay\"].mean()\n",
    "    \n",
    "    preds = result.groupby([\"task\", \"label\", \"id\"]).apply(f)\n",
    "    preds = pd.DataFrame(preds).reset_index().rename(columns={0: \"prediction\"})\n",
    "\n",
    "    y_true = preds[\"label\"]\n",
    "    y_pred = preds[\"prediction\"]\n",
    "    precision = precision_score(y_true, y_pred)\n",
    "    recall = recall_score(y_true, y_pred)\n",
    "    \n",
    "    all_results.ix[all_results[\"task\"] == task, [\"time\", \"precision\", \"recall\"]] = \\\n",
    "        [time, precision, recall]"
   ]
  },
  {
   "cell_type": "code",
   "execution_count": 79,
   "metadata": {
    "collapsed": false
   },
   "outputs": [
    {
     "data": {
      "text/html": [
       "<div>\n",
       "<table border=\"1\" class=\"dataframe\">\n",
       "  <thead>\n",
       "    <tr style=\"text-align: right;\">\n",
       "      <th></th>\n",
       "      <th>task</th>\n",
       "      <th>precision</th>\n",
       "      <th>recall</th>\n",
       "      <th>time</th>\n",
       "    </tr>\n",
       "  </thead>\n",
       "  <tbody>\n",
       "    <tr>\n",
       "      <th>0</th>\n",
       "      <td>easy</td>\n",
       "      <td>0.842105</td>\n",
       "      <td>0.888889</td>\n",
       "      <td>0.651246</td>\n",
       "    </tr>\n",
       "    <tr>\n",
       "      <th>1</th>\n",
       "      <td>medium</td>\n",
       "      <td>0.906250</td>\n",
       "      <td>0.805556</td>\n",
       "      <td>0.706790</td>\n",
       "    </tr>\n",
       "    <tr>\n",
       "      <th>2</th>\n",
       "      <td>hard</td>\n",
       "      <td>0.687500</td>\n",
       "      <td>0.611111</td>\n",
       "      <td>0.743878</td>\n",
       "    </tr>\n",
       "    <tr>\n",
       "      <th>3</th>\n",
       "      <td>all_concepts</td>\n",
       "      <td>0.843137</td>\n",
       "      <td>0.796296</td>\n",
       "      <td>0.701946</td>\n",
       "    </tr>\n",
       "  </tbody>\n",
       "</table>\n",
       "</div>"
      ],
      "text/plain": [
       "           task  precision    recall      time\n",
       "0          easy   0.842105  0.888889  0.651246\n",
       "1        medium   0.906250  0.805556  0.706790\n",
       "2          hard   0.687500  0.611111  0.743878\n",
       "3  all_concepts   0.843137  0.796296  0.701946"
      ]
     },
     "execution_count": 79,
     "metadata": {},
     "output_type": "execute_result"
    }
   ],
   "source": [
    "all_results"
   ]
  },
  {
   "cell_type": "markdown",
   "metadata": {},
   "source": [
    "# Test that timings are the same"
   ]
  },
  {
   "cell_type": "code",
   "execution_count": 111,
   "metadata": {
    "collapsed": false
   },
   "outputs": [],
   "source": [
    "from scipy.stats import ttest_1samp"
   ]
  },
  {
   "cell_type": "code",
   "execution_count": 119,
   "metadata": {
    "collapsed": false
   },
   "outputs": [
    {
     "name": "stdout",
     "output_type": "stream",
     "text": [
      "easy\t32.3083510878579\t7.723110094801737e-205\n",
      "medium\t32.3083510878579\t7.723110094801737e-205\n",
      "hard\t32.3083510878579\t7.723110094801737e-205\n",
      "all_concepts\t33.272997340440995\t2.1422564470322455e-233\n"
     ]
    }
   ],
   "source": [
    "popmean = 0.1\n",
    "for task in [\"easy\", \"medium\", \"hard\", \"all_concepts\"]:\n",
    "    if task != \"all_concepts\":\n",
    "        df1 = df.ix[df[\"task\"] == \"easy\", \"delay\"].copy()\n",
    "    else:\n",
    "        df1 = df[\"delay\"].copy()\n",
    "        \n",
    "    result = ttest_1samp(df1, popmean)\n",
    "    \n",
    "    print(\"{}\\t{}\\t{}\".format(task, result.statistic, result.pvalue))"
   ]
  },
  {
   "cell_type": "markdown",
   "metadata": {},
   "source": [
    "## Plot distribution of delay"
   ]
  },
  {
   "cell_type": "code",
   "execution_count": 93,
   "metadata": {
    "collapsed": true
   },
   "outputs": [],
   "source": [
    "def adjustFigAspect(fig,aspect=1):\n",
    "    '''\n",
    "    Adjust the subplot parameters so that the figure has the correct\n",
    "    aspect ratio.\n",
    "    '''\n",
    "    xsize,ysize = fig.get_size_inches()\n",
    "    minsize = min(xsize,ysize)\n",
    "    xlim = .4*minsize/xsize\n",
    "    ylim = .4*minsize/ysize\n",
    "    if aspect < 1:\n",
    "        xlim *= aspect\n",
    "    else:\n",
    "        ylim /= aspect\n",
    "    fig.subplots_adjust(left=.5-xlim,\n",
    "                        right=.5+xlim,\n",
    "                        bottom=.5-ylim,\n",
    "                        top=.5+ylim)"
   ]
  },
  {
   "cell_type": "code",
   "execution_count": 101,
   "metadata": {
    "collapsed": false
   },
   "outputs": [],
   "source": [
    "def dist_delay(df, percentile):\n",
    "    max_delay = np.percentile(df[\"delay\"], percentile)\n",
    "    \n",
    "    f = plt.figure()\n",
    "    adjustFigAspect(f)\n",
    "\n",
    "    ax = f.add_subplot(111)\n",
    "    ax = sns.distplot(df.ix[df[\"delay\"] <= max_delay, \"delay\"])\n",
    "    ax.set_xlim(left=0)\n",
    "    return (f, ax,)"
   ]
  },
  {
   "cell_type": "code",
   "execution_count": 102,
   "metadata": {
    "collapsed": false,
    "scrolled": false
   },
   "outputs": [
    {
     "data": {
      "image/png": "[encoded data removed]",
      "text/plain": [
       "<matplotlib.figure.Figure at 0x7f4f33ede0f0>"
      ]
     },
     "metadata": {},
     "output_type": "display_data"
    }
   ],
   "source": [
    "f, ax = dist_delay(df, 99)"
   ]
  },
  {
   "cell_type": "code",
   "execution_count": 104,
   "metadata": {
    "collapsed": false
   },
   "outputs": [],
   "source": [
    "f.savefig(\"conventional_delay.png\", bbox_inches='tight')"
   ]
  },
  {
   "cell_type": "code",
   "execution_count": 106,
   "metadata": {
    "collapsed": false
   },
   "outputs": [
    {
     "data": {
      "text/plain": [
       "123.89299999999999"
      ]
     },
     "execution_count": 106,
     "metadata": {},
     "output_type": "execute_result"
    }
   ],
   "source": [
    "df[\"delay\"].max()"
   ]
  },
  {
   "cell_type": "code",
   "execution_count": null,
   "metadata": {
    "collapsed": true
   },
   "outputs": [],
   "source": []
  }
 ],
 "metadata": {
  "kernelspec": {
   "display_name": "Python 3",
   "language": "python",
   "name": "python3"
  }
 },
 "nbformat": 4,
 "nbformat_minor": 2
}
